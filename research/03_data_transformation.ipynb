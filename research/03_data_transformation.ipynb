{
 "cells": [
  {
   "cell_type": "code",
   "execution_count": 1,
   "metadata": {},
   "outputs": [],
   "source": [
    "import os"
   ]
  },
  {
   "cell_type": "code",
   "execution_count": 2,
   "metadata": {},
   "outputs": [
    {
     "data": {
      "text/plain": [
       "'c:\\\\Users\\\\sridhar\\\\Desktop\\\\DATA ANALYTICS PROJECTS\\\\DATA SCIENCE\\\\End-To-End-ML-Project\\\\research'"
      ]
     },
     "execution_count": 2,
     "metadata": {},
     "output_type": "execute_result"
    }
   ],
   "source": [
    "%pwd"
   ]
  },
  {
   "cell_type": "code",
   "execution_count": 3,
   "metadata": {},
   "outputs": [],
   "source": [
    "os.chdir(\"../\")"
   ]
  },
  {
   "cell_type": "code",
   "execution_count": 4,
   "metadata": {},
   "outputs": [
    {
     "data": {
      "text/plain": [
       "'c:\\\\Users\\\\sridhar\\\\Desktop\\\\DATA ANALYTICS PROJECTS\\\\DATA SCIENCE\\\\End-To-End-ML-Project'"
      ]
     },
     "execution_count": 4,
     "metadata": {},
     "output_type": "execute_result"
    }
   ],
   "source": [
    "%pwd"
   ]
  },
  {
   "cell_type": "code",
   "execution_count": 5,
   "metadata": {},
   "outputs": [],
   "source": [
    "# Purpose: Definition of the DataTransformationConfig data class.\n",
    "\n",
    "from dataclasses import dataclass  # Importing the dataclass decorator.\n",
    "from pathlib import Path  # Object-oriented interface to filesystem paths.\n",
    "\n",
    "@dataclass(frozen=True)\n",
    "class DataTransformationConfig:\n",
    "    \"\"\"\n",
    "    Data class for configuration related to data transformation.\n",
    "\n",
    "    Attributes:\n",
    "        root_dir (Path): Root directory for data transformation artifacts.\n",
    "        date_path (Path): Path to the input data file for transformation.\n",
    "    \"\"\"\n",
    "    root_dir: Path\n",
    "    data_path: Path"
   ]
  },
  {
   "cell_type": "code",
   "execution_count": 6,
   "metadata": {},
   "outputs": [],
   "source": [
    "from mlproject.constants import *\n",
    "from mlproject.utils.common import read_yaml,create_directories"
   ]
  },
  {
   "cell_type": "code",
   "execution_count": 7,
   "metadata": {},
   "outputs": [],
   "source": [
    "# File: configuration_manager.py\n",
    "# Purpose: Definition of the ConfigurationManager class for managing project configurations.\n",
    "\n",
    "class ConfigurationManager:\n",
    "    def __init__(\n",
    "        self,\n",
    "        config_filepath=CONFIG_FILE_PATH,\n",
    "        params_filepath=PARAMS_FILE_PATH,\n",
    "        schema_filepath=SCHEMA_FILE_PATH):\n",
    "        \"\"\"\n",
    "        Initializes the ConfigurationManager with default or provided file paths.\n",
    "\n",
    "        Args:\n",
    "            config_filepath (Path, optional): Path to the configuration file. Defaults to CONFIG_FILE_PATH.\n",
    "            params_filepath (Path, optional): Path to the parameters file. Defaults to PARAMS_FILE_PATH.\n",
    "            schema_filepath (Path, optional): Path to the schema file. Defaults to SCHEMA_FILE_PATH.\n",
    "        \"\"\"\n",
    "        # Reading configuration, parameters, and schema files using read_yaml function.\n",
    "        self.config = read_yaml(config_filepath)\n",
    "        self.params = read_yaml(params_filepath)\n",
    "        self.schema = read_yaml(schema_filepath)\n",
    "\n",
    "        # Creating the root directory for project artifacts.\n",
    "        create_directories([self.config.artifacts_root])\n",
    "\n",
    "    def get_data_transformation_config(self) -> DataTransformationConfig:\n",
    "        \"\"\"\n",
    "        Retrieves the configuration for data transformation.\n",
    "\n",
    "        Returns:\n",
    "            DataTransformationConfig: Data class containing data transformation configuration.\n",
    "        \"\"\"\n",
    "        # Extracting data transformation configuration from the overall project configuration.\n",
    "        config = self.config.data_transformation\n",
    "\n",
    "        # Creating the root directory for data transformation artifacts.\n",
    "        create_directories([config.root_dir])\n",
    "\n",
    "        # Creating a DataTransformationConfig object with the extracted configuration.\n",
    "        data_transformation_config = DataTransformationConfig(\n",
    "            root_dir=config.root_dir,\n",
    "            data_path=config.data_path,\n",
    "        )\n",
    "\n",
    "        return data_transformation_config"
   ]
  },
  {
   "cell_type": "code",
   "execution_count": 8,
   "metadata": {},
   "outputs": [],
   "source": [
    "import os\n",
    "from mlproject import logger\n",
    "from sklearn.model_selection import train_test_split\n",
    "import pandas as pd"
   ]
  },
  {
   "cell_type": "code",
   "execution_count": 9,
   "metadata": {},
   "outputs": [],
   "source": [
    "# Purpose: Definition of the DataTransformation class for handling data transformation.\n",
    "\n",
    "class DataTransformation:\n",
    "    def __init__(self, config: DataTransformationConfig):\n",
    "        \"\"\"\n",
    "        Initializes the DataTransformation object with the provided configuration.\n",
    "\n",
    "        Args:\n",
    "            config (DataTransformationConfig): DataTransformationConfig object containing data transformation settings.\n",
    "        \"\"\"\n",
    "        self.config = config\n",
    "\n",
    "    ## Note: You can add different data transformation techniques such as Scaler, PCA, and all\n",
    "    # You can perform all kinds of EDA in ML cycle here before passing this data to the model\n",
    "\n",
    "    # I am only adding train_test_splitting because this data is already cleaned up\n",
    "\n",
    "    def train_test_splitting(self):\n",
    "        \"\"\"\n",
    "        Performs train-test splitting on the data and saves the resulting sets to CSV files.\n",
    "        \"\"\"\n",
    "        # Reading the data file into a pandas DataFrame.\n",
    "        data = pd.read_csv(self.config.data_path)\n",
    "\n",
    "        # Splitting the data into training and test sets using a default split ratio of (0.75, 0.25).\n",
    "        train, test = train_test_split(data)\n",
    "\n",
    "        # Saving the training and test sets to CSV files in the root directory for data transformation artifacts.\n",
    "        train.to_csv(os.path.join(self.config.root_dir, \"train.csv\"), index=False)\n",
    "        test.to_csv(os.path.join(self.config.root_dir, \"test.csv\"), index=False)\n",
    "\n",
    "        # Logging information about the split.\n",
    "        logger.info(\"Split data into training and test sets\")\n",
    "        logger.info(train.shape)\n",
    "        logger.info(test.shape)\n",
    "\n",
    "        # Printing the shapes of the resulting sets.\n",
    "        print(train.shape)\n",
    "        print(test.shape)\n"
   ]
  },
  {
   "cell_type": "code",
   "execution_count": 10,
   "metadata": {},
   "outputs": [
    {
     "name": "stdout",
     "output_type": "stream",
     "text": [
      "[2023-12-02 21:33:45,932: INFO: common: YAML file: config\\config.yaml loaded successfully]\n",
      "[2023-12-02 21:33:45,939: INFO: common: YAML file: params.yaml loaded successfully]\n",
      "[2023-12-02 21:33:45,956: INFO: common: YAML file: schema.yaml loaded successfully]\n",
      "[2023-12-02 21:33:45,958: INFO: common: Created directory at: artifacts]\n",
      "[2023-12-02 21:33:45,961: INFO: common: Created directory at: artifacts/data_transformation]\n",
      "[2023-12-02 21:33:46,032: INFO: 1809509712: Split data into training and test sets]\n",
      "[2023-12-02 21:33:46,036: INFO: 1809509712: (1199, 12)]\n",
      "[2023-12-02 21:33:46,039: INFO: 1809509712: (400, 12)]\n",
      "(1199, 12)\n",
      "(400, 12)\n"
     ]
    }
   ],
   "source": [
    "# Purpose: Main script or module for the machine learning project.\n",
    "\n",
    "try:\n",
    "    # Creating ConfigurationManager to manage project configurations.\n",
    "    config = ConfigurationManager()\n",
    "\n",
    "    # Retrieving data transformation configuration.\n",
    "    data_transformation_config = config.get_data_transformation_config()\n",
    "\n",
    "    # Creating DataTransformation object with the obtained configuration.\n",
    "    data_transformation = DataTransformation(config=data_transformation_config)\n",
    "\n",
    "    # Performing data transformation: train-test splitting.\n",
    "    data_transformation.train_test_splitting()\n",
    "\n",
    "except Exception as e:\n",
    "    # Handling and re-raising any exceptions that occur during the process.\n",
    "    raise e\n"
   ]
  }
 ],
 "metadata": {
  "kernelspec": {
   "display_name": "mltest",
   "language": "python",
   "name": "python3"
  },
  "language_info": {
   "codemirror_mode": {
    "name": "ipython",
    "version": 3
   },
   "file_extension": ".py",
   "mimetype": "text/x-python",
   "name": "python",
   "nbconvert_exporter": "python",
   "pygments_lexer": "ipython3",
   "version": "3.8.18"
  }
 },
 "nbformat": 4,
 "nbformat_minor": 2
}
