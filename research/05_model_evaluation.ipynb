{
 "cells": [
  {
   "cell_type": "code",
   "execution_count": 1,
   "metadata": {},
   "outputs": [],
   "source": [
    "import os"
   ]
  },
  {
   "cell_type": "code",
   "execution_count": 2,
   "metadata": {},
   "outputs": [
    {
     "data": {
      "text/plain": [
       "'c:\\\\Users\\\\sridhar\\\\Desktop\\\\DATA ANALYTICS PROJECTS\\\\DATA SCIENCE\\\\End-To-End-ML-Project'"
      ]
     },
     "execution_count": 2,
     "metadata": {},
     "output_type": "execute_result"
    }
   ],
   "source": [
    "os.chdir(\"../\")\n",
    "%pwd"
   ]
  },
  {
   "cell_type": "code",
   "execution_count": 3,
   "metadata": {},
   "outputs": [],
   "source": [
    "from dataclasses import dataclass  # Importing the dataclass decorator.\n",
    "from pathlib import Path  # Object-oriented interface to filesystem paths.\n",
    "\n",
    "@dataclass(frozen=True)\n",
    "class ModelEvaluationConfig:\n",
    "    \"\"\"\n",
    "    Data class for configuration related to model evaluation.\n",
    "\n",
    "    Attributes:\n",
    "        root_dir (Path): Root directory for model evaluation artifacts.\n",
    "        test_data_path (Path): Path to the test data CSV file.\n",
    "        model_path (Path): Path to the trained machine learning model.\n",
    "        all_params (dict): Dictionary containing all relevant parameters for model evaluation.\n",
    "        metric_file_name (Path): File name for saving model evaluation metrics.\n",
    "        target_column (str): Name of the target column in the dataset.\n",
    "    \"\"\"\n",
    "    root_dir: Path\n",
    "    test_data_path: Path\n",
    "    model_path: Path\n",
    "    all_params: dict\n",
    "    metric_file_name: Path\n",
    "    target_column: str\n"
   ]
  },
  {
   "cell_type": "code",
   "execution_count": 7,
   "metadata": {},
   "outputs": [],
   "source": [
    "from mlproject.constants import *\n",
    "from mlproject.utils.common import read_yaml,create_directories,save_json"
   ]
  },
  {
   "cell_type": "code",
   "execution_count": 5,
   "metadata": {},
   "outputs": [],
   "source": [
    "class ConfigurationManager:\n",
    "    def __init__(\n",
    "        self,\n",
    "        config_filepath=CONFIG_FILE_PATH,\n",
    "        params_filepath=PARAMS_FILE_PATH,\n",
    "        schema_filepath=SCHEMA_FILE_PATH):\n",
    "        \"\"\"\n",
    "        Initializes the ConfigurationManager with default or provided file paths.\n",
    "\n",
    "        Args:\n",
    "            config_filepath (Path, optional): Path to the configuration file. Defaults to CONFIG_FILE_PATH.\n",
    "            params_filepath (Path, optional): Path to the parameters file. Defaults to PARAMS_FILE_PATH.\n",
    "            schema_filepath (Path, optional): Path to the schema file. Defaults to SCHEMA_FILE_PATH.\n",
    "        \"\"\"\n",
    "        # Reading configuration, parameters, and schema files using read_yaml function.\n",
    "        self.config = read_yaml(config_filepath)\n",
    "        self.params = read_yaml(params_filepath)\n",
    "        self.schema = read_yaml(schema_filepath)\n",
    "\n",
    "        # Creating the root directory for project artifacts.\n",
    "        create_directories([self.config.artifacts_root])\n",
    "\n",
    "    def get_model_evaluation_config(self) -> ModelEvaluationConfig:\n",
    "        \"\"\"\n",
    "        Retrieves the configuration for model evaluation.\n",
    "\n",
    "        Returns:\n",
    "            ModelEvaluationConfig: Data class containing model evaluation configuration.\n",
    "        \"\"\"\n",
    "        # Extracting model evaluation configuration, ElasticNet parameters, and target column from the overall project configuration.\n",
    "        config = self.config.model_evaluation\n",
    "        params = self.params.ElasticNet\n",
    "        schema = self.schema.TARGET_COLUMN\n",
    "\n",
    "        # Creating the root directory for model evaluation artifacts.\n",
    "        create_directories([config.root_dir])\n",
    "\n",
    "        # Creating a ModelEvaluationConfig object with the extracted configuration.\n",
    "        model_evaluation_config = ModelEvaluationConfig(\n",
    "            root_dir=config.root_dir,\n",
    "            test_data_path=config.test_data_path,\n",
    "            model_path=config.model_path,\n",
    "            all_params=params,\n",
    "            metric_file_name=config.metric_file_name,\n",
    "            target_column=schema.name\n",
    "        )\n",
    "\n",
    "        return model_evaluation_config\n"
   ]
  },
  {
   "cell_type": "code",
   "execution_count": 6,
   "metadata": {},
   "outputs": [],
   "source": [
    "import os\n",
    "import pandas as pd\n",
    "from sklearn.metrics import mean_squared_error, mean_absolute_error, r2_score\n",
    "from urllib.parse import urlparse\n",
    "import numpy as np\n",
    "import joblib"
   ]
  },
  {
   "cell_type": "code",
   "execution_count": 8,
   "metadata": {},
   "outputs": [],
   "source": [
    "class ModelEvaluation:\n",
    "    def __init__(self, config: ModelEvaluationConfig):\n",
    "        \"\"\"\n",
    "        Initializes the ModelEvaluation object with the provided configuration.\n",
    "\n",
    "        Args:\n",
    "            config (ModelEvaluationConfig): ModelEvaluationConfig object containing model evaluation settings.\n",
    "        \"\"\"\n",
    "        self.config = config\n",
    "\n",
    "    def eval_metrics(self, actual, pred):\n",
    "        \"\"\"\n",
    "        Calculates evaluation metrics including RMSE, MAE, and R2.\n",
    "\n",
    "        Args:\n",
    "            actual: Ground truth values.\n",
    "            pred: Predicted values.\n",
    "\n",
    "        Returns:\n",
    "            Tuple: Tuple containing RMSE, MAE, and R2.\n",
    "        \"\"\"\n",
    "        rmse = np.sqrt(mean_squared_error(actual, pred))\n",
    "        mae = mean_absolute_error(actual, pred)\n",
    "        r2 = r2_score(actual, pred)\n",
    "        return rmse, mae, r2\n",
    "\n",
    "    def save_results(self):\n",
    "        \"\"\"\n",
    "        Loads the test data and the trained model, predicts on the test data, calculates metrics, and saves them.\n",
    "\n",
    "        Returns:\n",
    "            None\n",
    "        \"\"\"\n",
    "        # Reading test data and trained model.\n",
    "        test_data = pd.read_csv(self.config.test_data_path)\n",
    "        model = joblib.load(self.config.model_path)\n",
    "\n",
    "        # Extracting features and target variable from the test data.\n",
    "        test_x = test_data.drop([self.config.target_column], axis=1)\n",
    "        test_y = test_data[[self.config.target_column]]\n",
    "\n",
    "        # Predicting target variable on the test data.\n",
    "        predicted_qualities = model.predict(test_x)\n",
    "\n",
    "        # Calculating evaluation metrics.\n",
    "        (rmse, mae, r2) = self.eval_metrics(test_y, predicted_qualities)\n",
    "\n",
    "        # Saving metrics as a JSON file locally.\n",
    "        scores = {\"rmse\": rmse, \"mae\": mae, \"r2\": r2}\n",
    "        save_json(path=Path(self.config.metric_file_name), data=scores)\n"
   ]
  },
  {
   "cell_type": "code",
   "execution_count": 9,
   "metadata": {},
   "outputs": [
    {
     "name": "stdout",
     "output_type": "stream",
     "text": [
      "[2023-12-02 23:03:12,039: INFO: common: YAML file: config\\config.yaml loaded successfully]\n",
      "[2023-12-02 23:03:12,047: INFO: common: YAML file: params.yaml loaded successfully]\n",
      "[2023-12-02 23:03:12,054: INFO: common: YAML file: schema.yaml loaded successfully]\n",
      "[2023-12-02 23:03:12,056: INFO: common: Created directory at: artifacts]\n",
      "[2023-12-02 23:03:12,057: INFO: common: Created directory at: artifacts/model_evaluation]\n",
      "[2023-12-02 23:03:12,218: INFO: common: JSON file saved at: artifacts\\model_evaluation\\metrics.json]\n"
     ]
    }
   ],
   "source": [
    "try:\n",
    "    # Creating ConfigurationManager to manage project configurations.\n",
    "    config = ConfigurationManager()\n",
    "\n",
    "    # Retrieving model evaluation configuration.\n",
    "    model_evaluation_config = config.get_model_evaluation_config()\n",
    "\n",
    "    # Creating ModelEvaluation object with the obtained configuration.\n",
    "    model_evaluation = ModelEvaluation(config=model_evaluation_config)\n",
    "\n",
    "    # Saving evaluation results, including metrics.\n",
    "    model_evaluation.save_results()\n",
    "\n",
    "except Exception as e:\n",
    "    # Handling and re-raising any exceptions that occur during the process.\n",
    "    raise e\n"
   ]
  }
 ],
 "metadata": {
  "kernelspec": {
   "display_name": "mltest",
   "language": "python",
   "name": "python3"
  },
  "language_info": {
   "codemirror_mode": {
    "name": "ipython",
    "version": 3
   },
   "file_extension": ".py",
   "mimetype": "text/x-python",
   "name": "python",
   "nbconvert_exporter": "python",
   "pygments_lexer": "ipython3",
   "version": "3.8.18"
  }
 },
 "nbformat": 4,
 "nbformat_minor": 2
}
