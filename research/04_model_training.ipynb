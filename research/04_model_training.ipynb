{
 "cells": [
  {
   "cell_type": "code",
   "execution_count": 1,
   "metadata": {},
   "outputs": [],
   "source": [
    "import os"
   ]
  },
  {
   "cell_type": "code",
   "execution_count": 2,
   "metadata": {},
   "outputs": [
    {
     "data": {
      "text/plain": [
       "'c:\\\\Users\\\\sridhar\\\\Desktop\\\\DATA ANALYTICS PROJECTS\\\\DATA SCIENCE\\\\End-To-End-ML-Project'"
      ]
     },
     "execution_count": 2,
     "metadata": {},
     "output_type": "execute_result"
    }
   ],
   "source": [
    "os.chdir(\"../\")\n",
    "%pwd"
   ]
  },
  {
   "cell_type": "code",
   "execution_count": 14,
   "metadata": {},
   "outputs": [],
   "source": [
    "# Purpose: Definition of the ModelTrainerConfig data class.\n",
    "\n",
    "from dataclasses import dataclass  # Importing the dataclass decorator.\n",
    "from pathlib import Path  # Object-oriented interface to filesystem paths.\n",
    "\n",
    "@dataclass(frozen=True)\n",
    "class ModelTrainerConfig:\n",
    "    \"\"\"\n",
    "    Data class for configuration related to model training.\n",
    "\n",
    "    Attributes:\n",
    "        root_dir (Path): Root directory for model training artifacts.\n",
    "        train_data_path (Path): Path to the training data CSV file.\n",
    "        test_data_path (Path): Path to the test data CSV file.\n",
    "        model_name (str): File name for saving the trained machine learning model.\n",
    "        alpha (float): Regularization strength for models that support regularization.\n",
    "        l1_ratio (float): The mixing parameter for elastic net regularization.\n",
    "        target_column (str): Name of the target column in the dataset.\n",
    "    \"\"\"\n",
    "    root_dir: Path\n",
    "    train_data_path: Path\n",
    "    test_data_path: Path\n",
    "    model_name: str\n",
    "    alpha: float\n",
    "    l1_ratio: float\n",
    "    target_column: str\n"
   ]
  },
  {
   "cell_type": "code",
   "execution_count": 4,
   "metadata": {},
   "outputs": [],
   "source": [
    "from mlproject.constants import *\n",
    "from mlproject.utils.common import read_yaml,create_directories"
   ]
  },
  {
   "cell_type": "code",
   "execution_count": 15,
   "metadata": {},
   "outputs": [],
   "source": [
    "# Purpose: Definition of the ConfigurationManager class for managing project configurations.\n",
    "\n",
    "class ConfigurationManager:\n",
    "    def __init__(\n",
    "        self,\n",
    "        config_filepath=CONFIG_FILE_PATH,\n",
    "        params_filepath=PARAMS_FILE_PATH,\n",
    "        schema_filepath=SCHEMA_FILE_PATH):\n",
    "        \"\"\"\n",
    "        Initializes the ConfigurationManager with default or provided file paths.\n",
    "\n",
    "        Args:\n",
    "            config_filepath (Path, optional): Path to the configuration file. Defaults to CONFIG_FILE_PATH.\n",
    "            params_filepath (Path, optional): Path to the parameters file. Defaults to PARAMS_FILE_PATH.\n",
    "            schema_filepath (Path, optional): Path to the schema file. Defaults to SCHEMA_FILE_PATH.\n",
    "        \"\"\"\n",
    "        # Reading configuration, parameters, and schema files using read_yaml function.\n",
    "        self.config = read_yaml(config_filepath)\n",
    "        self.params = read_yaml(params_filepath)\n",
    "        self.schema = read_yaml(schema_filepath)\n",
    "\n",
    "        # Creating the root directory for project artifacts.\n",
    "        create_directories([self.config.artifacts_root])\n",
    "\n",
    "    def get_model_trainer_config(self) -> ModelTrainerConfig:\n",
    "        \"\"\"\n",
    "        Retrieves the configuration for model training.\n",
    "\n",
    "        Returns:\n",
    "            ModelTrainerConfig: Data class containing model training configuration.\n",
    "        \"\"\"\n",
    "        # Extracting model trainer configuration, ElasticNet parameters, and target column from the overall project configuration.\n",
    "        config = self.config.model_trainer\n",
    "        params = self.params.ElasticNet\n",
    "        schema = self.schema.TARGET_COLUMN\n",
    "\n",
    "        # Creating the root directory for model training artifacts.\n",
    "        create_directories([config.root_dir])\n",
    "\n",
    "        # Creating a ModelTrainerConfig object with the extracted configuration.\n",
    "        model_trainer_config = ModelTrainerConfig(\n",
    "            root_dir=config.root_dir,\n",
    "            train_data_path=config.train_data_path,\n",
    "            test_data_path=config.test_data_path,\n",
    "            model_name=config.model_name,\n",
    "            alpha=params.alpha,\n",
    "            l1_ratio=params.l1_ratio,\n",
    "            target_column=schema.name\n",
    "        )\n",
    "\n",
    "        return model_trainer_config\n"
   ]
  },
  {
   "cell_type": "code",
   "execution_count": 6,
   "metadata": {},
   "outputs": [],
   "source": [
    "import pandas as pd\n",
    "import os\n",
    "from mlproject import logger\n",
    "from sklearn.linear_model import ElasticNet\n",
    "import joblib"
   ]
  },
  {
   "cell_type": "code",
   "execution_count": 17,
   "metadata": {},
   "outputs": [],
   "source": [
    "# Purpose: Definition of the ModelTrainer class for training a machine learning model.\n",
    "\n",
    "class ModelTrainer:\n",
    "    def __init__(self, config: ModelTrainerConfig):\n",
    "        \"\"\"\n",
    "        Initializes the ModelTrainer object with the provided configuration.\n",
    "\n",
    "        Args:\n",
    "            config (ModelTrainerConfig): ModelTrainerConfig object containing model training settings.\n",
    "        \"\"\"\n",
    "        self.config = config\n",
    "\n",
    "    def train(self):\n",
    "        \"\"\"\n",
    "        Trains a machine learning model using ElasticNet regression.\n",
    "        \"\"\"\n",
    "        # Reading training and test data from CSV files.\n",
    "        train_data = pd.read_csv(self.config.train_data_path)\n",
    "        test_data = pd.read_csv(self.config.test_data_path)\n",
    "\n",
    "        # Extracting features and target variables from the data.\n",
    "        train_x = train_data.drop([self.config.target_column], axis=1)\n",
    "        test_x = test_data.drop([self.config.target_column], axis=1)\n",
    "        train_y = train_data[[self.config.target_column]]\n",
    "        test_y = test_data[[self.config.target_column]]\n",
    "\n",
    "        # Creating an ElasticNet regression model with specified alpha and l1_ratio.\n",
    "        lr = ElasticNet(alpha=self.config.alpha, l1_ratio=self.config.l1_ratio, random_state=42)\n",
    "\n",
    "        # Training the model on the training data.\n",
    "        lr.fit(train_x, train_y)\n",
    "\n",
    "        # Saving the trained model using joblib in the specified root directory.\n",
    "        joblib.dump(lr, os.path.join(self.config.root_dir, self.config.model_name))\n"
   ]
  },
  {
   "cell_type": "code",
   "execution_count": 18,
   "metadata": {},
   "outputs": [
    {
     "name": "stdout",
     "output_type": "stream",
     "text": [
      "[2023-12-02 22:27:23,921: INFO: common: YAML file: config\\config.yaml loaded successfully]\n",
      "[2023-12-02 22:27:23,933: INFO: common: YAML file: params.yaml loaded successfully]\n",
      "[2023-12-02 22:27:23,938: INFO: common: YAML file: schema.yaml loaded successfully]\n",
      "[2023-12-02 22:27:23,945: INFO: common: Created directory at: artifacts]\n",
      "[2023-12-02 22:27:23,945: INFO: common: Created directory at: artifacts/model_trainer]\n"
     ]
    }
   ],
   "source": [
    "try:\n",
    "    # Creating ConfigurationManager to manage project configurations.\n",
    "    config = ConfigurationManager()\n",
    "\n",
    "    # Retrieving model trainer configuration.\n",
    "    model_trainer_config = config.get_model_trainer_config()\n",
    "\n",
    "    # Creating ModelTrainer object with the obtained configuration.\n",
    "    model_trainer = ModelTrainer(config=model_trainer_config)\n",
    "\n",
    "    # Training the machine learning model.\n",
    "    model_trainer.train()\n",
    "\n",
    "except Exception as e:\n",
    "    # Handling and re-raising any exceptions that occur during the process.\n",
    "    raise e\n"
   ]
  }
 ],
 "metadata": {
  "kernelspec": {
   "display_name": "mltest",
   "language": "python",
   "name": "python3"
  },
  "language_info": {
   "codemirror_mode": {
    "name": "ipython",
    "version": 3
   },
   "file_extension": ".py",
   "mimetype": "text/x-python",
   "name": "python",
   "nbconvert_exporter": "python",
   "pygments_lexer": "ipython3",
   "version": "3.8.18"
  }
 },
 "nbformat": 4,
 "nbformat_minor": 2
}
