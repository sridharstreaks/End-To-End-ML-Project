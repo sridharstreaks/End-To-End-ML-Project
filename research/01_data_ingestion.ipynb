{
 "cells": [
  {
   "cell_type": "code",
   "execution_count": 1,
   "metadata": {},
   "outputs": [],
   "source": [
    "import os"
   ]
  },
  {
   "cell_type": "code",
   "execution_count": 2,
   "metadata": {},
   "outputs": [],
   "source": [
    "os.chdir('../')"
   ]
  },
  {
   "cell_type": "code",
   "execution_count": 3,
   "metadata": {},
   "outputs": [
    {
     "data": {
      "text/plain": [
       "'c:\\\\Users\\\\sridhar\\\\Desktop\\\\DATA ANALYTICS PROJECTS\\\\DATA SCIENCE\\\\End-To-End-ML-Project'"
      ]
     },
     "execution_count": 3,
     "metadata": {},
     "output_type": "execute_result"
    }
   ],
   "source": [
    "%pwd"
   ]
  },
  {
   "cell_type": "code",
   "execution_count": 4,
   "metadata": {},
   "outputs": [],
   "source": [
    "# Purpose: Data class definition for DataIngestionConfig.\n",
    "# Creating a custom entity for \n",
    "\"\"\"Custom entities can be used to represent any type of object or concept that is not already defined in the Python standard library. \n",
    "They can be used to improve the readability and maintainability of your code.\"\"\"\n",
    "\n",
    "from dataclasses import dataclass\n",
    "from pathlib import Path\n",
    "\n",
    "@dataclass(frozen=True)\n",
    "class DataIngestionConfig:\n",
    "    \"\"\"Data class for configuration related to data ingestion.\"\"\"\n",
    "    root_dir: Path             # Root directory for data ingestion artifacts.\n",
    "    source_URL: str            # URL from which the data will be downloaded.\n",
    "    local_data_file: Path      # Local path to store the downloaded data file.\n",
    "    unzip_dir: Path            # Directory where the downloaded data will be extracted.\n"
   ]
  },
  {
   "cell_type": "code",
   "execution_count": 6,
   "metadata": {},
   "outputs": [],
   "source": [
    "# Purpose: Main script or module for the machine learning project.\n",
    "\n",
    "# Importing constants and utility functions from mlproject package.\n",
    "from mlproject.constants import *\n",
    "from mlproject.utils.common import read_yaml,create_directories"
   ]
  },
  {
   "cell_type": "code",
   "execution_count": 7,
   "metadata": {},
   "outputs": [],
   "source": [
    "# Purpose: Definition of the ConfigurationManager class for managing project configurations.\n",
    "\n",
    "class ConfigurationManager:\n",
    "    def __init__(\n",
    "        self,\n",
    "        config_filepath=CONFIG_FILE_PATH,\n",
    "        params_filepath=PARAMS_FILE_PATH,\n",
    "        schema_filepath=SCHEMA_FILE_PATH):\n",
    "        \"\"\"\n",
    "        Initializes the ConfigurationManager with default or provided file paths.\n",
    "\n",
    "        Args:\n",
    "            config_filepath (Path, optional): Path to the configuration file. Defaults to CONFIG_FILE_PATH.\n",
    "            params_filepath (Path, optional): Path to the parameters file. Defaults to PARAMS_FILE_PATH.\n",
    "            schema_filepath (Path, optional): Path to the schema file. Defaults to SCHEMA_FILE_PATH.\n",
    "        \"\"\"\n",
    "        # Reading configuration, parameters, and schema files using read_yaml function.\n",
    "        self.config = read_yaml(config_filepath)\n",
    "        self.params = read_yaml(params_filepath)\n",
    "        self.schema = read_yaml(schema_filepath)\n",
    "\n",
    "        # Creating the root directory for project artifacts.\n",
    "        create_directories([self.config.artifacts_root])\n",
    "\n",
    "    def get_data_ingestion_config(self) -> DataIngestionConfig:\n",
    "        \"\"\"\n",
    "        Gets the configuration for data ingestion.\n",
    "\n",
    "        Returns:\n",
    "            DataIngestionConfig: Data class containing data ingestion configuration.\n",
    "        \"\"\"\n",
    "        # Extracting data ingestion configuration from the overall project configuration.\n",
    "        config = self.config.data_ingestion\n",
    "\n",
    "        # Creating the root directory for data ingestion artifacts.\n",
    "        create_directories([config.root_dir])\n",
    "\n",
    "        # Creating a DataIngestionConfig object with the extracted configuration.\n",
    "        data_ingestion_config = DataIngestionConfig(\n",
    "            root_dir=config.root_dir,\n",
    "            source_URL=config.source_URL,\n",
    "            local_data_file=config.local_data_file,\n",
    "            unzip_dir=config.unzip_dir\n",
    "        )\n",
    "\n",
    "        return data_ingestion_config\n"
   ]
  },
  {
   "cell_type": "code",
   "execution_count": 8,
   "metadata": {},
   "outputs": [],
   "source": [
    "import os  # Operating system interface.\n",
    "import urllib.request as request  # URL handling module.\n",
    "import zipfile  # ZIP file processing module.\n",
    "from mlproject import logger  # Logger specific to the mlProject package.\n",
    "from mlproject.utils.common import get_size  # Common utility function for file size."
   ]
  },
  {
   "cell_type": "code",
   "execution_count": 9,
   "metadata": {},
   "outputs": [],
   "source": [
    "# Purpose: Definition of the DataIngestion class for handling data download and extraction.\n",
    "\n",
    "class DataIngestion:\n",
    "    def __init__(self, config: DataIngestionConfig):\n",
    "        \"\"\"\n",
    "        Initializes the DataIngestion object with the provided configuration.\n",
    "\n",
    "        Args:\n",
    "            config (DataIngestionConfig): DataIngestionConfig object containing data ingestion settings.\n",
    "        \"\"\"\n",
    "        self.config = config\n",
    "\n",
    "    def download_file(self):\n",
    "        \"\"\"\n",
    "        Downloads the data file from the specified source URL and logs the download information.\n",
    "        \"\"\"\n",
    "        if not os.path.exists(self.config.local_data_file):\n",
    "            filename, headers = request.urlretrieve(\n",
    "                url=self.config.source_URL,\n",
    "                filename=self.config.local_data_file\n",
    "            )\n",
    "            logger.info(f\"{filename} downloaded! with the following info:\\n{headers}\")\n",
    "        else:\n",
    "            logger.info(f\"File already exists of size: {get_size(Path(self.config.local_data_file))}\")\n",
    "\n",
    "    def extract_zip_file(self):\n",
    "        \"\"\"\n",
    "        Extracts the contents of the ZIP file into the specified directory.\n",
    "        \"\"\"\n",
    "        unzip_path = self.config.unzip_dir\n",
    "        os.makedirs(unzip_path, exist_ok=True)\n",
    "        with zipfile.ZipFile(self.config.local_data_file, 'r') as zip_ref:\n",
    "            zip_ref.extractall(unzip_path)\n"
   ]
  },
  {
   "cell_type": "code",
   "execution_count": 10,
   "metadata": {},
   "outputs": [
    {
     "name": "stdout",
     "output_type": "stream",
     "text": [
      "[2023-12-01 20:46:04,006: INFO: common: YAML file: config\\config.yaml loaded successfully]\n",
      "[2023-12-01 20:46:04,016: INFO: common: YAML file: params.yaml loaded successfully]\n",
      "[2023-12-01 20:46:04,021: INFO: common: YAML file: schema.yaml loaded successfully]\n",
      "[2023-12-01 20:46:04,021: INFO: common: Created directory at: artifacts]\n",
      "[2023-12-01 20:46:04,024: INFO: common: Created directory at: artifacts/data_ingestion]\n",
      "[2023-12-01 20:46:07,016: INFO: 1058992654: artifacts/data_ingestion/data.zip downloaded! with the following info:\n",
      "Connection: close\n",
      "Content-Length: 23329\n",
      "Cache-Control: max-age=300\n",
      "Content-Security-Policy: default-src 'none'; style-src 'unsafe-inline'; sandbox\n",
      "Content-Type: application/zip\n",
      "ETag: \"c69888a4ae59bc5a893392785a938ccd4937981c06ba8a9d6a21aa52b4ab5b6e\"\n",
      "Strict-Transport-Security: max-age=31536000\n",
      "X-Content-Type-Options: nosniff\n",
      "X-Frame-Options: deny\n",
      "X-XSS-Protection: 1; mode=block\n",
      "X-GitHub-Request-Id: 7CFC:91CD:CFB4FF:FD9A2D:6569F8B3\n",
      "Accept-Ranges: bytes\n",
      "Date: Fri, 01 Dec 2023 15:16:05 GMT\n",
      "Via: 1.1 varnish\n",
      "X-Served-By: cache-maa10226-MAA\n",
      "X-Cache: MISS\n",
      "X-Cache-Hits: 0\n",
      "X-Timer: S1701443766.648280,VS0,VE331\n",
      "Vary: Authorization,Accept-Encoding,Origin\n",
      "Access-Control-Allow-Origin: *\n",
      "Cross-Origin-Resource-Policy: cross-origin\n",
      "X-Fastly-Request-ID: d57021ba9704434ffc2ff343275db4b600b87970\n",
      "Expires: Fri, 01 Dec 2023 15:21:05 GMT\n",
      "Source-Age: 0\n",
      "\n",
      "]\n"
     ]
    }
   ],
   "source": [
    "# Purpose: Main script or module for the machine learning project.\n",
    "\n",
    "try:\n",
    "    # Creating ConfigurationManager to manage project configurations.\n",
    "    config = ConfigurationManager()\n",
    "\n",
    "    # Retrieving data ingestion configuration.\n",
    "    data_ingestion_config = config.get_data_ingestion_config()\n",
    "\n",
    "    # Creating DataIngestion object with the obtained configuration.\n",
    "    data_ingestion = DataIngestion(config=data_ingestion_config)\n",
    "\n",
    "    # Downloading the data file.\n",
    "    data_ingestion.download_file()\n",
    "\n",
    "    # Extracting contents from the ZIP file.\n",
    "    data_ingestion.extract_zip_file()\n",
    "\n",
    "except Exception as e:\n",
    "    # Handling and re-raising any exceptions that occur during the process.\n",
    "    raise e\n"
   ]
  }
 ],
 "metadata": {
  "kernelspec": {
   "display_name": "mltest",
   "language": "python",
   "name": "python3"
  },
  "language_info": {
   "codemirror_mode": {
    "name": "ipython",
    "version": 3
   },
   "file_extension": ".py",
   "mimetype": "text/x-python",
   "name": "python",
   "nbconvert_exporter": "python",
   "pygments_lexer": "ipython3",
   "version": "3.8.18"
  },
  "orig_nbformat": 4
 },
 "nbformat": 4,
 "nbformat_minor": 2
}
